{
 "cells": [
  {
   "cell_type": "markdown",
   "id": "34f2f137-ae83-4617-bc6a-cee69d3180b5",
   "metadata": {},
   "source": [
    "# H1: Data Science Tools and Ecosystem"
   ]
  },
  {
   "cell_type": "markdown",
   "id": "ef77b08e-b5f4-441f-883c-ca4ff0a4b31e",
   "metadata": {},
   "source": [
    "In this notebook, Data Science Tools and Ecosystem are summarized."
   ]
  },
  {
   "cell_type": "markdown",
   "id": "8b4a2d9b-0f41-4275-8537-ba53d239ab28",
   "metadata": {},
   "source": [
    "**Objectives:**\n",
    "List popular languages for Data Science\n",
    "- popular languages for data science\n",
    "- libraries for data science\n",
    "- tools for data science\n",
    "- evaluating the simple arithmetic expression\n",
    "\n",
    "# H2: Author\n",
    "Hari Krishna P A"
   ]
  },
  {
   "cell_type": "markdown",
   "id": "9b14f171-ae10-4b8b-806c-03cc9f7164fd",
   "metadata": {},
   "source": [
    "Some of the popular languages that Data Scientists use are:\n",
    "1. Python\n",
    "2. R\n",
    "3. SQL"
   ]
  },
  {
   "cell_type": "markdown",
   "id": "e848999c-4c5f-499f-beac-08c58591ad2a",
   "metadata": {},
   "source": [
    "Some of the commonly used libraries used by Data Scientists include:\n",
    "1. Pandas\n",
    "2. Numpy\n",
    "3. Seaborn"
   ]
  },
  {
   "cell_type": "markdown",
   "id": "1406ae60-d711-4d26-bc48-c49add3dea77",
   "metadata": {},
   "source": [
    "| Data Science Tools |\n",
    "| ------------------ |\n",
    "| Jupyter Notebook |\n",
    "| RStudio |\n",
    "| Spyder |"
   ]
  },
  {
   "cell_type": "markdown",
   "id": "f44d9b25-1999-49e5-a274-3e4b3f694d70",
   "metadata": {},
   "source": [
    "# H3: Below are a few examples of evaluating arithmetic expressions in Python"
   ]
  },
  {
   "cell_type": "code",
   "execution_count": 4,
   "id": "2a12463c-aa2e-4dfe-a180-ecb80328945e",
   "metadata": {},
   "outputs": [
    {
     "data": {
      "text/plain": [
       "17"
      ]
     },
     "execution_count": 4,
     "metadata": {},
     "output_type": "execute_result"
    }
   ],
   "source": [
    "# This a simple arithmetic expression to mutiply then add integers\n",
    "(3*4)+5"
   ]
  },
  {
   "cell_type": "code",
   "execution_count": 5,
   "id": "c01f455f-74d7-4608-b7e7-2ca161cd301b",
   "metadata": {},
   "outputs": [
    {
     "name": "stdout",
     "output_type": "stream",
     "text": [
      "3.3333333333333335\n"
     ]
    }
   ],
   "source": [
    "# This will convert 200 minutes to hours by diving by 60\n",
    "min=200\n",
    "hours=min/60\n",
    "print(hours)"
   ]
  },
  {
   "cell_type": "code",
   "execution_count": null,
   "id": "f9bae011-6d04-4417-b942-c431e5e40d92",
   "metadata": {},
   "outputs": [],
   "source": []
  }
 ],
 "metadata": {
  "kernelspec": {
   "display_name": "Python",
   "language": "python",
   "name": "conda-env-python-py"
  },
  "language_info": {
   "codemirror_mode": {
    "name": "ipython",
    "version": 3
   },
   "file_extension": ".py",
   "mimetype": "text/x-python",
   "name": "python",
   "nbconvert_exporter": "python",
   "pygments_lexer": "ipython3",
   "version": "3.7.12"
  }
 },
 "nbformat": 4,
 "nbformat_minor": 5
}
